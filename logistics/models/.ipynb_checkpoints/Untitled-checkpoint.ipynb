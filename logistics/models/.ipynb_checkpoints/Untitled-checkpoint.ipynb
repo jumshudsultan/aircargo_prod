{
 "cells": [
  {
   "cell_type": "code",
   "execution_count": 7,
   "metadata": {},
   "outputs": [],
   "source": [
    "from odoo import models, fields, api\n",
    "class SaleCity(models.Model):\n",
    "    _inherit = 'sale.order'\n",
    "    @api.onchange('load_categories')\n",
    "    def _load_categories(self):\n",
    "        categories = env['logistics.customs_categories'].search([])\n",
    "        sales = env['sale.order'].search([])\n",
    "        calculation_ids = []\n",
    "        for record in self:\n",
    "            if record:\n",
    "                categories = env['logistics.customs_categories'].search([])\n",
    "                calculation_ids.append([0,0,{'name': \"NAME\"}])\n",
    "        return {'value' : {'calculation_ids' : calculation_ids}}"
   ]
  },
  {
   "cell_type": "code",
   "execution_count": null,
   "metadata": {},
   "outputs": [],
   "source": []
  }
 ],
 "metadata": {
  "kernelspec": {
   "display_name": "Odoo-shell",
   "language": "",
   "name": "odoo"
  },
  "language_info": {
   "codemirror_mode": {
    "name": "ipython",
    "version": 3
   },
   "file_extension": ".py",
   "mimetype": "text/x-python",
   "name": "python",
   "nbconvert_exporter": "python",
   "pygments_lexer": "ipython3",
   "version": "3.6.7"
  }
 },
 "nbformat": 4,
 "nbformat_minor": 2
}
